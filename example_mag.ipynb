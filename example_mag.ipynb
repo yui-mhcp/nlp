{
 "cells": [
  {
   "cell_type": "markdown",
   "metadata": {},
   "source": [
    "# Example for the Memory Augmented Generator (MAG) model"
   ]
  },
  {
   "cell_type": "markdown",
   "metadata": {},
   "source": [
    "## Imports + model initialization"
   ]
  },
  {
   "cell_type": "code",
   "execution_count": null,
   "metadata": {},
   "outputs": [],
   "source": [
    "import pandas as pd\n",
    "import tensorflow as tf\n",
    "\n",
    "from loggers import set_level, add_handler\n",
    "from models.nlu import infer_to_str\n",
    "from models.qa import MAG\n",
    "from utils import set_display_options\n",
    "from datasets import get_dataset, prepare_dataset, test_dataset_time\n",
    "from models import get_pretrained, get_models, get_model_history\n",
    "\n",
    "from experiments_mag import config_from_name, training_config_from_name, testing_config_from_name, predict_config_from_name\n",
    "\n",
    "set_display_options()\n",
    "\n",
    "model_name = 'mag_nq_coqa_newsqa_split_off_wt_ib_2_2_mean'\n",
    "\n",
    "print(\"Tensorflow version : {}\".format(tf.__version__))"
   ]
  },
  {
   "cell_type": "code",
   "execution_count": null,
   "metadata": {
    "tags": []
   },
   "outputs": [],
   "source": [
    "config = config_from_name(model_name)\n",
    "config.pop('class')\n",
    "\n",
    "if 'pretrained_name' in config and not is_model_name(config['pretrained_name']):\n",
    "    logging.warning('Pretrained model {} does not exist !'.format(config.pop('pretrained_name')))\n",
    "\n",
    "tf.config.set_visible_devices([], 'GPU')\n",
    "if 'pretrained_name' in config:\n",
    "    model = MAG.from_pretrained(** config)\n",
    "else:\n",
    "    model = MAG(** config)\n",
    "\n",
    "print(model)"
   ]
  },
  {
   "cell_type": "code",
   "execution_count": null,
   "metadata": {},
   "outputs": [],
   "source": [
    "model.model.freeze(trainable = True)\n",
    "model.encoder.subsampling_layer.trainable = False\n",
    "model.summary()\n",
    "model.model.encoder.summary()"
   ]
  },
  {
   "cell_type": "markdown",
   "metadata": {},
   "source": [
    "## Training"
   ]
  },
  {
   "cell_type": "code",
   "execution_count": null,
   "metadata": {},
   "outputs": [],
   "source": [
    "model = get_pretrained(model_name)\n",
    "\n",
    "config = training_config_from_name(model_name, model.epochs > 0)\n",
    "\n",
    "model.compile(** config.pop('compile_config', {}))\n",
    "\n",
    "dataset = get_dataset(config['dataset'], ** config.pop('dataset_config', {}))\n",
    "\n",
    "train, valid = dataset['train'], dataset['valid']\n",
    "\n",
    "print(\"Training samples   : {} - {} batches\".format(len(train), len(train) // config['batch_size']))\n",
    "print(\"Validation samples : {} - {} batches\".format(len(valid), len(valid) // (config['batch_size'] * 2)))\n",
    "\n",
    "hist = model.train(\n",
    "    train, validation_data = valid, valid_batch_size = 2., ** config\n",
    ")"
   ]
  },
  {
   "cell_type": "code",
   "execution_count": null,
   "metadata": {},
   "outputs": [],
   "source": [
    "model.plot_history()\n",
    "print(model.history)"
   ]
  },
  {
   "cell_type": "markdown",
   "metadata": {},
   "source": [
    "## Evaluate"
   ]
  },
  {
   "cell_type": "code",
   "execution_count": null,
   "metadata": {},
   "outputs": [],
   "source": [
    "test_name = 'test'\n",
    "\n",
    "model = get_pretrained(model_name)\n",
    "\n",
    "config = testing_config_from_name(model_name, test_name, overwrite = False)\n",
    "\n",
    "valid = get_dataset(config['dataset'], ** config.pop('dataset_config', {}), modes = 'valid')\n",
    "\n",
    "hist = model.test(valid, ** config)"
   ]
  },
  {
   "cell_type": "markdown",
   "metadata": {},
   "source": [
    "## Prediction"
   ]
  },
  {
   "cell_type": "code",
   "execution_count": null,
   "metadata": {},
   "outputs": [],
   "source": [
    "pred_name = 'pred'\n",
    "\n",
    "model = get_pretrained(model_name)\n",
    "\n",
    "config = predict_config_from_name(model_name, pred_name, overwrite = False)\n",
    "\n",
    "valid = get_dataset(config['dataset'], ** config.pop('dataset_config', {}), modes = 'valid')\n",
    "\n",
    "hist = model.test(valid, ** config)"
   ]
  },
  {
   "cell_type": "code",
   "execution_count": null,
   "metadata": {},
   "outputs": [],
   "source": [
    "question = [\n",
    "    'How is the night vision of cat ?',\n",
    "    'How is the night vision of cat ?',\n",
    "    'What is the anoatomy of a cat ?',\n",
    "    'How many paws does a cat have ?',\n",
    "    'How many paws does a cat have ?',\n",
    "    'How many paws does a cat have ?',\n",
    "    'What is the origin of life ?'\n",
    "]\n",
    "context  = [\n",
    "    'The cat is similar in anatomy to the other felid species: it has a strong flexible body, \\\n",
    "quick reflexes, sharp teeth and retractable claws adapted to killing small prey. Its night vision and sense of smell are well \\\n",
    "developed. Cat communication includes vocalizations like meowing, purring, trilling, hissing, growling and grunting as well as cat-\\\n",
    "specific body language. A predator that is most active at dawn and dusk (crepuscular), the cat is a solitary hunter but a social species. \\\n",
    "It can hear sounds too faint or too high in frequency for human ears, such as those made by mice and other small mammals.[7] It secretes and \\\n",
    "perceives pheromones.',\n",
    "    [p.strip() + '.' for p in 'The cat is similar in anatomy to the other felid species: it has a strong flexible body, \\\n",
    "quick reflexes, sharp teeth and retractable claws adapted to killing small prey. Its night vision and sense of smell are well \\\n",
    "developed. Cat communication includes vocalizations like meowing, purring, trilling, hissing, growling and grunting as well as cat-\\\n",
    "specific body language. A predator that is most active at dawn and dusk (crepuscular), the cat is a solitary hunter but a social species. \\\n",
    "It can hear sounds too faint or too high in frequency for human ears, such as those made by mice and other small mammals.[7] It secretes and \\\n",
    "perceives pheromones.'.split('.') if len(p) > 0],\n",
    "    ['The cat is similar in anatomy to the other felid species: it has a strong flexible body, \\\n",
    "quick reflexes, sharp teeth and retractable claws adapted to killing small prey. Its night vision and sense of smell are well \\\n",
    "developed. Cat communication includes vocalizations like meowing, purring, trilling, hissing, growling and grunting as well as cat-\\\n",
    "specific body language. A predator that is most active at dawn and dusk (crepuscular), the cat is a solitary hunter but a social species. \\\n",
    "It can hear sounds too faint or too high in frequency for human ears, such as those made by mice and other small mammals.[7] It secretes and \\\n",
    "perceives pheromones.', 'The answer to everything is 42'],\n",
    "    'A cat is an animal which has 4 paws and whiskers.',\n",
    "    'A cat is an animal which has 4 paws and whiskers. However, everyone knows that the answer to everything is 42 !',\n",
    "    ['A cat is an animal which has 4 paws and whiskers.', 'However, everyone knows that the answer to everything is 42 !'],\n",
    "    'The answer to everything is 42.'\n",
    "]\n",
    "\n",
    "if not isinstance(question, list): question = [question]\n",
    "if not isinstance(context, list): context = [context]\n",
    "\n",
    "answers = model.predict(question, context, title = 'cat', method = 'beam')\n",
    "\n",
    "for q, c, a in zip(question, context, answers):\n",
    "    print(\"Question : {}\\nContext : {}\\nAnswer : {}\\n\".format(q, c, infer_to_str(a[0], a[1]))\n"
   ]
  },
  {
   "cell_type": "markdown",
   "metadata": {},
   "source": [
    "## Tests"
   ]
  },
  {
   "cell_type": "code",
   "execution_count": null,
   "metadata": {},
   "outputs": [],
   "source": [
    "#model.negative_mode = 'doc'\n",
    "model = get_pretrained(model_name)\n",
    "\n",
    "model.max_input_texts = 4\n",
    "model.use_multi_input = False\n",
    "model.max_input_length = 512\n",
    "model.max_sentence_length = 128\n",
    "model.merge_multi_inputs  = True\n",
    "\n",
    "valid = get_dataset('nq', include_document = True, keep_mode = 'all', modes = 'valid')\n",
    "\n",
    "config = model.get_dataset_config(batch_size = 16, is_validation = False, shuffle_size = 0)\n",
    "ds = prepare_dataset(valid, ** config, is_rectangular = False)\n",
    "\n",
    "test_dataset_time(ds, steps = 1000 if not model.use_multi_input else 10)"
   ]
  },
  {
   "cell_type": "code",
   "execution_count": null,
   "metadata": {},
   "outputs": [],
   "source": [
    "from custom_train_objects.optimizers import WarmupScheduler, DivideByStep\n",
    "\n",
    "lr = WarmupScheduler(maxval = 5e-5, minval = 5e-6, factor = 32, warmup_steps = 128)\n",
    "lr = DivideByStep(0.5, maxval = 5e-5, minval = 5e-6)\n",
    "lr.plot(50000)"
   ]
  }
 ],
 "metadata": {
  "kernelspec": {
   "display_name": "Python 3 (ipykernel)",
   "language": "python",
   "name": "python3"
  },
  "language_info": {
   "codemirror_mode": {
    "name": "ipython",
    "version": 3
   },
   "file_extension": ".py",
   "mimetype": "text/x-python",
   "name": "python",
   "nbconvert_exporter": "python",
   "pygments_lexer": "ipython3",
   "version": "3.10.5"
  }
 },
 "nbformat": 4,
 "nbformat_minor": 4
}
