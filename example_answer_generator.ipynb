{
 "cells": [
  {
   "cell_type": "markdown",
   "metadata": {},
   "source": [
    "# Example for the Answer Generator model"
   ]
  },
  {
   "cell_type": "markdown",
   "metadata": {},
   "source": [
    "## Imports + model initialization"
   ]
  },
  {
   "cell_type": "code",
   "execution_count": 1,
   "metadata": {},
   "outputs": [
    {
     "name": "stdout",
     "output_type": "stream",
     "text": [
      "Tensorflow version : 2.6.2\n"
     ]
    }
   ],
   "source": [
    "import time\n",
    "import numpy as np\n",
    "import pandas as pd\n",
    "import tensorflow as tf\n",
    "\n",
    "from models.qa import AnswerGenerator\n",
    "from utils import set_display_options\n",
    "from datasets import get_dataset, prepare_dataset, train_test_split, test_dataset_time\n",
    "\n",
    "set_display_options()\n",
    "\n",
    "model_name = 'bart_qa'\n",
    "bert_base  = 'facebook/bart-large'\n",
    "\n",
    "print(\"Tensorflow version : {}\".format(tf.__version__))"
   ]
  },
  {
   "cell_type": "code",
   "execution_count": 2,
   "metadata": {},
   "outputs": [
    {
     "name": "stdout",
     "output_type": "stream",
     "text": [
      "When using token / word-level tokenizer, it can be useful to add 'detach_punctuation' in cleaners\n"
     ]
    },
    {
     "name": "stderr",
     "output_type": "stream",
     "text": [
      "All model checkpoint layers were used when initializing TFBartForConditionalGeneration.\n",
      "\n",
      "All the layers of TFBartForConditionalGeneration were initialized from the model checkpoint at facebook/bart-large.\n",
      "If your task is similar to the task the model of the checkpoint was trained on, you can already use TFBartForConditionalGeneration for predictions without further training.\n",
      "100%|██████████████████████████████████████████████████████████████████████████████████| 99/99 [00:21<00:00,  4.52it/s]\n"
     ]
    },
    {
     "name": "stdout",
     "output_type": "stream",
     "text": [
      "Weights transfered successfully !\n"
     ]
    },
    {
     "name": "stderr",
     "output_type": "stream",
     "text": [
      "100%|████████████████████████████████████████████████████████████████████████████████| 160/160 [00:32<00:00,  4.90it/s]\n"
     ]
    },
    {
     "name": "stdout",
     "output_type": "stream",
     "text": [
      "Weights transfered successfully !\n",
      "Initializing model with kwargs : {'model': <custom_architectures.transformers_arch.bart_arch.Bart object at 0x0000023744A9B198>}\n",
      "Initializing submodel : `model` !\n",
      "Submodel model saved in pretrained_models\\bart_qa\\saving\\model.json !\n",
      "Model bart_qa initialized successfully !\n",
      "\n",
      "========== bart_qa ==========\n",
      "Sub model model\n",
      "- Inputs \t: unknown\n",
      "- Outputs \t: unknown\n",
      "- Number of layers \t: 2\n",
      "- Number of parameters \t: 406.342 Millions\n",
      "- Model not compiled\n",
      "\n",
      "Transfer-learning from : facebook/bart-large\n",
      "Already trained on 0 epochs (0 steps)\n",
      "\n",
      "- Language : en\n",
      "- Vocabulary (size = 50265) : ['<s>', '<pad>', '</s>', '<unk>', '.', 'Ġthe', ',', 'Ġto', 'Ġand', 'Ġof', 'Ġa', 'Ġin', '-', 'Ġfor', 'Ġthat', 'Ġon', 'Ġis', 'âĢ', \"'s\", 'Ġwith', 'ĠThe', 'Ġwas', 'Ġ\"', 'Ġat', 'Ġit', ...]\n",
      "- Input format : ['{question}', '{context}']\n",
      "- Output format : {answer}\n",
      "- Max input length : 512\n",
      "\n"
     ]
    }
   ],
   "source": [
    "config = {\n",
    "    'lang'             : 'en',\n",
    "    'input_format'     : ['{question}', '{context}'],\n",
    "    'output_format'    : '{answer}',\n",
    "    'text_encoder'     : bert_base,\n",
    "    'max_input_length' : 512,\n",
    "    \n",
    "    'pretrained' : bert_base\n",
    "}\n",
    "\n",
    "model = AnswerGenerator(nom = model_name, ** config)\n",
    "\n",
    "print(model)"
   ]
  },
  {
   "cell_type": "code",
   "execution_count": 3,
   "metadata": {},
   "outputs": [
    {
     "name": "stdout",
     "output_type": "stream",
     "text": [
      "\n",
      "========== Summary of model ==========\n",
      "\n",
      "Model: \"bart\"\n",
      "_________________________________________________________________\n",
      "Layer (type)                 Output Shape              Param #   \n",
      "=================================================================\n",
      "encoder (BartEncoder)        multiple                  203678720 \n",
      "_________________________________________________________________\n",
      "decoder (BartDecoder)        multiple                  254134361 \n",
      "=================================================================\n",
      "Total params: 406,341,721\n",
      "Trainable params: 406,291,456\n",
      "Non-trainable params: 50,265\n",
      "_________________________________________________________________\n",
      "\n"
     ]
    }
   ],
   "source": [
    "model.summary()"
   ]
  },
  {
   "cell_type": "markdown",
   "metadata": {},
   "source": [
    "## Model instanciation + dataset loading"
   ]
  },
  {
   "cell_type": "code",
   "execution_count": 2,
   "metadata": {},
   "outputs": [
    {
     "name": "stdout",
     "output_type": "stream",
     "text": [
      "When using token / word-level tokenizer, it can be useful to add 'detach_punctuation' in cleaners\n",
      "Model restoration...\n",
      "Initializing submodel : `model` !\n",
      "Successfully restored model from pretrained_models/bart_qa/saving/model.json !\n",
      "Model bart_qa initialized successfully !\n",
      "Optimizer 'model_optimizer' initilized successfully !\n",
      "Submodel model compiled !\n",
      "  Loss : {'reduction': 'none', 'name': 'TextLoss', 'pad_value': 1}\n",
      "  Optimizer : {'name': 'Adam', 'learning_rate': 1e-05, 'decay': 0.0, 'beta_1': 0.9, 'beta_2': 0.999, 'epsilon': 1e-07, 'amsgrad': False}\n",
      "  Metrics : [{'name': 'TextAccuracy', 'dtype': 'float32'}, {'name': 'F1', 'dtype': 'float32', 'normalize': True, 'exclude': None}]\n",
      "\n",
      "========== bart_qa ==========\n",
      "Sub model model\n",
      "- Inputs \t: unknown\n",
      "- Outputs \t: unknown\n",
      "- Number of layers \t: 2\n",
      "- Number of parameters \t: 406.342 Millions\n",
      "- Optimizer \t: {'name': 'Adam', 'learning_rate': 1e-05, 'decay': 0.0, 'beta_1': 0.9, 'beta_2': 0.999, 'epsilon': 1e-07, 'amsgrad': False}\n",
      "- Loss \t : {'reduction': 'none', 'name': 'TextLoss', 'pad_value': 1}\n",
      "- Metrics\t : [{'name': 'TextAccuracy', 'dtype': 'float32'}, {'name': 'F1', 'dtype': 'float32', 'normalize': True, 'exclude': None}]\n",
      "\n",
      "Transfer-learning from : facebook/bart-large\n",
      "Already trained on 0 epochs (0 steps)\n",
      "\n",
      "- Language : en\n",
      "- Vocabulary (size = 50265) : ['<s>', '<pad>', '</s>', '<unk>', '.', 'Ġthe', ',', 'Ġto', 'Ġand', 'Ġof', 'Ġa', 'Ġin', '-', 'Ġfor', 'Ġthat', 'Ġon', 'Ġis', 'âĢ', \"'s\", 'Ġwith', 'ĠThe', 'Ġwas', 'Ġ\"', 'Ġat', 'Ġit', ...]\n",
      "- Input format : ['{question}', '{context}']\n",
      "- Output format : {answer}\n",
      "- Max input length : 512\n",
      "\n"
     ]
    }
   ],
   "source": [
    "model = AnswerGenerator(nom = model_name, max_to_keep = 1)\n",
    "\n",
    "lr = {'name' : 'WarmupScheduler', 'maxval' : 5e-5,'minval' : 1e-5, 'factor' : 512, 'warmup_steps' : 8192}\n",
    "lr = 1e-5\n",
    "\n",
    "model.compile(optimizer = 'adam', optimizer_config = {'lr' : lr}, metrics = ['TextAccuracy', 'F1'])\n",
    "print(model)"
   ]
  },
  {
   "cell_type": "code",
   "execution_count": 3,
   "metadata": {},
   "outputs": [
    {
     "name": "stdout",
     "output_type": "stream",
     "text": [
      "Loading dataset squad...\n",
      "Dataset length :\n",
      "  Training set : 86821\n",
      "  Validation set : 5928\n"
     ]
    }
   ],
   "source": [
    "datasets = 'squad' if 'nq' not in model_name else 'nq'\n",
    "\n",
    "dataset = get_dataset(datasets, clean_text = True, skip_impossible = True, keep_mode = 'longest')\n",
    "train, valid = dataset['train'], dataset['valid']\n",
    "\n",
    "\n",
    "print(\"Dataset length :\\n  Training set : {}\\n  Validation set : {}\".format(\n",
    "    len(train), len(valid)\n",
    "))"
   ]
  },
  {
   "cell_type": "markdown",
   "metadata": {},
   "source": [
    "## Training"
   ]
  },
  {
   "cell_type": "code",
   "execution_count": 4,
   "metadata": {},
   "outputs": [
    {
     "name": "stdout",
     "output_type": "stream",
     "text": [
      "Training samples   : 132115 - 22019 batches\n",
      "Validation samples : 4963 - 413 batches\n",
      "Training config :\n",
      "HParams :\n",
      "- augment_prct\t: 0.25\n",
      "- max_input_length\t: 512\n",
      "- nb_mask\t: 1\n",
      "- min_mask_length\t: 1\n",
      "- max_mask_length\t: 1\n",
      "- max_output_length\t: 128\n",
      "- batch_size\t: 6\n",
      "- train_batch_size\t: None\n",
      "- valid_batch_size\t: 2.0\n",
      "- test_batch_size\t: 1\n",
      "- shuffle_size\t: 192\n",
      "- epochs\t: 1\n",
      "- verbose\t: 1\n",
      "- train_times\t: 1\n",
      "- valid_times\t: 1\n",
      "- train_size\t: None\n",
      "- valid_size\t: None\n",
      "- test_size\t: 4\n",
      "- pred_step\t: -1\n",
      "\n",
      "Running on 1 GPU\n",
      "\n",
      "Epoch 1 / 1\n",
      "   4263/Unknown - 3600s 836ms/step - loss: 0.7234 - EM: 0.3524 - F1: 0.6828 - precision: 0.7024 - recall: 0.6227 - accuracy: 0.8444 - sentence_accuracy: 0.3400\n",
      "Saving after 1 hour training !\n",
      "   8569/Unknown - 7209s 837ms/step - loss: 0.6285 - EM: 0.3801 - F1: 0.7168 - precision: 0.7331 - recall: 0.6586 - accuracy: 0.8600 - sentence_accuracy: 0.3677\n",
      "Saving after 1 hour training !\n",
      "  12864/Unknown - 10818s 838ms/step - loss: 0.5834 - EM: 0.3958 - F1: 0.7302 - precision: 0.7485 - recall: 0.6779 - accuracy: 0.8677 - sentence_accuracy: 0.3834\n",
      "Saving after 1 hour training !\n",
      "14755/14755 [==============================] - 12606s 852ms/step - loss: 0.5696 - EM: 0.4010 - F1: 0.7352 - precision: 0.7533 - recall: 0.6840 - accuracy: 0.8701 - sentence_accuracy: 0.3885 - val_loss: 0.4282 - val_EM: 0.3839 - val_F1: 0.7553 - val_precision: 0.8138 - val_recall: 0.7454 - val_accuracy: 0.8951 - val_sentence_accuracy: 0.3724\n",
      "\n",
      "Saving at epoch 1 !\n",
      "\n",
      "Making prediction at step 14755\n",
      "Prediction 1 / 1 :\n",
      "  Input      : <s>what purpose did seasonal monsoon winds have on trade<\\s>\n",
      "  Target     : enabled European empire expansion into the Americas and trade routes to become established across the Atlantic and Pacific oceans<\\s>\n",
      "  Prediction : the European empire expansion into the Americas and trade routes to become established across the Atlantic and Pacific oceans<\\s>\n",
      "  Inference  : the steering flow for tropical storms that form over the Atlantic, Pacific, and southern Indian Oceans\n",
      "Prediction 1 / 1 :\n",
      "  Input      : <s>who got the first nobel prize in physics<\\s>\n",
      "  Target     : United Kingdom<\\s>\n",
      "  Prediction : United Kingdom<\\s>\n",
      "  Inference  : United Kingdom\n",
      "Prediction 1 / 1 :\n",
      "  Input      : <s>when is the next deadpool movie being released<\\s>\n",
      "  Target     : May 18, 2018<\\s>\n",
      "  Prediction : May 18, 2018<\\s>\n",
      "  Inference  : May 18, 2018\n",
      "Prediction 1 / 1 :\n",
      "  Input      : <s>where did the idea of fortnite come from<\\s>\n",
      "  Target     : as a cross between Minecraft and Left 4 Dead<\\s>\n",
      "  Prediction : Minecraft a cross between Minecraft and Left 4 Dead<\\s>\n",
      "  Inference  : Minecraft<\\s>\n",
      "Training finished after 3h 30min 32sec !\n",
      "Submodel model saved in pretrained_models\\m3_nq\\saving\\model.json !\n"
     ]
    }
   ],
   "source": [
    "epochs = 1\n",
    "batch_size = 8 if datasets == 'squad' else 6\n",
    "shuffle_size = batch_size * 32\n",
    "\n",
    "max_input_length = 512\n",
    "max_output_length = 128\n",
    "\n",
    "print(\"Training samples   : {} - {} batches\".format(len(train), len(train) // batch_size))\n",
    "print(\"Validation samples : {} - {} batches\".format(len(valid), len(valid) // (batch_size * 2)))\n",
    "\n",
    "hist = model.train(\n",
    "    train, validation_data = valid, \n",
    "    epochs = epochs, batch_size = batch_size, valid_batch_size = 2.,\n",
    "    shuffle_size = shuffle_size, max_input_length = max_input_length, max_output_length = max_output_length\n",
    ")"
   ]
  },
  {
   "cell_type": "code",
   "execution_count": 5,
   "metadata": {},
   "outputs": [
    {
     "data": {
      "image/png": "[encoded data removed]",
      "text/plain": [
       "<Figure size 720x432 with 4 Axes>"
      ]
     },
     "metadata": {
      "needs_background": "dark"
     },
     "output_type": "display_data"
    },
    {
     "name": "stdout",
     "output_type": "stream",
     "text": [
      "===== History =====\n",
      "         EM       F1  accuracy      loss  precision    recall  sentence_accuracy   val_EM    val_F1  val_accuracy  \\\n",
      "0  0.438328  0.73518  0.887467  0.470677   0.787921  0.727874           0.425744  0.38391  0.755343      0.895131   \n",
      "\n",
      "   val_loss  val_precision  val_recall  val_sentence_accuracy  \n",
      "0  0.428246       0.813751    0.745407               0.372375  \n"
     ]
    }
   ],
   "source": [
    "model.plot_history()\n",
    "print(model.history)"
   ]
  },
  {
   "cell_type": "markdown",
   "metadata": {},
   "source": [
    "## Evaluate"
   ]
  },
  {
   "cell_type": "code",
   "execution_count": null,
   "metadata": {},
   "outputs": [],
   "source": [
    "model.test(valid)"
   ]
  },
  {
   "cell_type": "markdown",
   "metadata": {},
   "source": [
    "## Prediction"
   ]
  },
  {
   "cell_type": "code",
   "execution_count": 7,
   "metadata": {},
   "outputs": [
    {
     "name": "stdout",
     "output_type": "stream",
     "text": [
      "Prediction 1 / 2 :\n",
      "  Input      : <s>when does agents of shield season five start<\\s>\n",
      "  Target     : December 1, 2017<\\s>\n",
      "  Prediction : December 1, 2017<\\s>\n",
      "  Inference  : December 1, 2017Prediction 2 / 2 :\n",
      "  Input      : <s>when will fairy tail final season be released<\\s>\n",
      "  Target     : 2018<\\s>\n",
      "  Prediction : 2018<\\s>\n",
      "  Inference  : 2018<\\s>\n",
      "Prediction 1 / 2 :\n",
      "  Input      : <s>where is the table of contents found in a book<\\s>\n",
      "  Target     : usually appears after the title page, copyright notices, and, in technical journals, the abstract; and before any lists of tables or figures, the foreword, and the preface<\\s>\n",
      "  Prediction : after appears after the title page, copyright notices, and, in technical journals, the abstract<\\s>\n",
      "  Inference  : after the title page<\\s>Prediction 2 / 2 :\n",
      "  Input      : <s>who plays mr wilson in dennis the menace<\\s>\n",
      "  Target     : Joseph Sherrard Kearns<\\s>\n",
      "  Prediction : Joseph Sherrard Kearns<\\s>\n",
      "  Inference  : Joseph Sherrard Kearns<\\s>\n",
      "Prediction 1 / 1 :\n",
      "  Input      : <s>love is not love that alters when it alteration finds meaning<\\s>\n",
      "  Target     : Sonnet 116<\\s>\n",
      "  Prediction : nonet 116<\\s>\n",
      "  Inference  : no<\\s>\n"
     ]
    }
   ],
   "source": [
    "config = model.get_dataset_config(batch_size = 2, is_validation = False, shuffle_size = 0)\n",
    "ds = prepare_dataset(valid.sample(10, random_state = 0), ** config)\n",
    "\n",
    "for batch in ds.take(5):\n",
    "    model.predict_with_target(batch, n_pred = 5)\n"
   ]
  },
  {
   "cell_type": "markdown",
   "metadata": {},
   "source": [
    "## Tests"
   ]
  },
  {
   "cell_type": "code",
   "execution_count": 5,
   "metadata": {},
   "outputs": [
    {
     "name": "stderr",
     "output_type": "stream",
     "text": [
      "99it [00:02, 45.23it/s]"
     ]
    },
    {
     "name": "stdout",
     "output_type": "stream",
     "text": [
      "\n",
      "100 batchs in 2.193 sec sec (45.600 batch / sec)\n",
      "\n",
      "Batch infos : \n",
      "Element 0 : \n",
      " Element 0 : shape : (16, 488) - type : <dtype: 'int32'> - min : 0.000 - max : 50264.000\n",
      " Element 1 : shape : (16,) - type : <dtype: 'int32'> - min : 291.000 - max : 488.000\n",
      " Element 2 : shape : (16, 23) - type : <dtype: 'int32'> - min : 0.000 - max : 44733.000\n",
      " Element 3 : shape : (16,) - type : <dtype: 'int32'> - min : 2.000 - max : 23.000\n",
      "Element 1 : \n",
      " Element 0 : shape : (16, 1, 23) - type : <dtype: 'int32'> - min : 1.000 - max : 44733.000\n",
      " Element 1 : shape : (16, 1) - type : <dtype: 'int32'> - min : 2.000 - max : 23.000\n"
     ]
    },
    {
     "name": "stderr",
     "output_type": "stream",
     "text": [
      "\n"
     ]
    },
    {
     "data": {
      "text/plain": [
       "2.1930015087127686"
      ]
     },
     "execution_count": 5,
     "metadata": {},
     "output_type": "execute_result"
    }
   ],
   "source": [
    "config = model.get_dataset_config(batch_size = 16, is_validation = False, shuffle_size = 0)\n",
    "ds = prepare_dataset(valid, ** config)\n",
    "\n",
    "test_dataset_time(ds, steps = 100)"
   ]
  },
  {
   "cell_type": "code",
   "execution_count": null,
   "metadata": {},
   "outputs": [],
   "source": [
    "from custom_train_objects.optimizers import WarmupScheduler\n",
    "\n",
    "lr = WarmupScheduler(maxval = 1e-3, minval = 1e-4, factor = 256, warmup_steps = 4096)\n",
    "lr.plot(25000)"
   ]
  },
  {
   "cell_type": "code",
   "execution_count": null,
   "metadata": {},
   "outputs": [],
   "source": [
    "lr = model.get_optimizer().learning_rate\n",
    "lr.assign(5e-4)"
   ]
  },
  {
   "cell_type": "code",
   "execution_count": null,
   "metadata": {},
   "outputs": [],
   "source": [
    "lr = model.get_optimizer().learning_rate\n",
    "print(lr)"
   ]
  }
 ],
 "metadata": {
  "kernelspec": {
   "display_name": "Python 3",
   "language": "python",
   "name": "python3"
  },
  "language_info": {
   "codemirror_mode": {
    "name": "ipython",
    "version": 3
   },
   "file_extension": ".py",
   "mimetype": "text/x-python",
   "name": "python",
   "nbconvert_exporter": "python",
   "pygments_lexer": "ipython3",
   "version": "3.6.6"
  }
 },
 "nbformat": 4,
 "nbformat_minor": 4
}
